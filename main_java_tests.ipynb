{
 "cells": [
  {
   "cell_type": "code",
   "execution_count": 10,
   "metadata": {
    "ExecuteTime": {
     "end_time": "2023-12-23T00:03:32.499948400Z",
     "start_time": "2023-12-23T00:03:32.491635100Z"
    }
   },
   "outputs": [],
   "source": [
    "from parser_java import get_unit_test_files, get_target_files, get_corresponding_groovy_files,count_groovy_folders\n",
    "from file_metrics import  get_history_files\n",
    "from plot_utils import plot_lines_test_vs_target_normalise_100, plot_lines_test_vs_target_dates, plot_lines_test_vs_target_numeric, plot_lines_test_vs_target_numeric_side_by_side\n",
    "from modfied_file import get_modifications_of_files\n",
    "repo_path = \"V:/gitProject/tomcat\""
   ]
  },
  {
   "cell_type": "code",
   "execution_count": 11,
   "outputs": [
    {
     "name": "stdout",
     "output_type": "stream",
     "text": [
      "Total number of test files:  134\n",
      "Total number of matching target files found:  101\n"
     ]
    },
    {
     "ename": "KeyboardInterrupt",
     "evalue": "",
     "output_type": "error",
     "traceback": [
      "\u001B[1;31m---------------------------------------------------------------------------\u001B[0m",
      "\u001B[1;31mKeyboardInterrupt\u001B[0m                         Traceback (most recent call last)",
      "Cell \u001B[1;32mIn[11], line 7\u001B[0m\n\u001B[0;32m      4\u001B[0m map_files \u001B[38;5;241m=\u001B[39m get_matching_target_files(repo_path, all_test_files)\n\u001B[0;32m      6\u001B[0m all_files \u001B[38;5;241m=\u001B[39m [map_[\u001B[38;5;124m'\u001B[39m\u001B[38;5;124mtest\u001B[39m\u001B[38;5;124m'\u001B[39m] \u001B[38;5;28;01mfor\u001B[39;00m map_ \u001B[38;5;129;01min\u001B[39;00m map_files] \u001B[38;5;241m+\u001B[39m [map_[\u001B[38;5;124m'\u001B[39m\u001B[38;5;124mtarget\u001B[39m\u001B[38;5;124m'\u001B[39m] \u001B[38;5;28;01mfor\u001B[39;00m map_ \u001B[38;5;129;01min\u001B[39;00m map_files]\n\u001B[1;32m----> 7\u001B[0m all_files_info \u001B[38;5;241m=\u001B[39m \u001B[43mget_modifications_of_files\u001B[49m\u001B[43m(\u001B[49m\u001B[43mrepo_path\u001B[49m\u001B[43m,\u001B[49m\u001B[43m \u001B[49m\u001B[43mall_files\u001B[49m\u001B[43m)\u001B[49m\n\u001B[0;32m      8\u001B[0m \u001B[38;5;28mprint\u001B[39m(all_files_info)\n\u001B[0;32m      9\u001B[0m map_files_info \u001B[38;5;241m=\u001B[39m []\n",
      "File \u001B[1;32m~\\Desktop\\书籍与资料\\ucl\\104_软件开发练习\\teamproject\\Project\\sdp_cw2\\modfied_file.py:16\u001B[0m, in \u001B[0;36mget_modifications_of_files\u001B[1;34m(repo_path, files)\u001B[0m\n\u001B[0;32m     13\u001B[0m files \u001B[38;5;241m=\u001B[39m {file: [] \u001B[38;5;28;01mfor\u001B[39;00m file \u001B[38;5;129;01min\u001B[39;00m files_names}\n\u001B[0;32m     15\u001B[0m \u001B[38;5;28;01mfor\u001B[39;00m commit \u001B[38;5;129;01min\u001B[39;00m Repository(repo_path)\u001B[38;5;241m.\u001B[39mtraverse_commits():\n\u001B[1;32m---> 16\u001B[0m     \u001B[38;5;28;01mfor\u001B[39;00m m \u001B[38;5;129;01min\u001B[39;00m \u001B[43mcommit\u001B[49m\u001B[38;5;241;43m.\u001B[39;49m\u001B[43mmodified_files\u001B[49m:\n\u001B[0;32m     17\u001B[0m         \u001B[38;5;28;01mif\u001B[39;00m m\u001B[38;5;241m.\u001B[39mfilename \u001B[38;5;129;01min\u001B[39;00m files_names:\n\u001B[0;32m     18\u001B[0m             files[m\u001B[38;5;241m.\u001B[39mfilename]\u001B[38;5;241m.\u001B[39mappend({\u001B[38;5;124m'\u001B[39m\u001B[38;5;124mcommit\u001B[39m\u001B[38;5;124m'\u001B[39m: commit, \n\u001B[0;32m     19\u001B[0m                                   \u001B[38;5;124m'\u001B[39m\u001B[38;5;124mfilename\u001B[39m\u001B[38;5;124m'\u001B[39m: m\u001B[38;5;241m.\u001B[39mfilename,\n\u001B[0;32m     20\u001B[0m                                   \u001B[38;5;124m'\u001B[39m\u001B[38;5;124mchange_type\u001B[39m\u001B[38;5;124m'\u001B[39m: m\u001B[38;5;241m.\u001B[39mchange_type,\n\u001B[1;32m   (...)\u001B[0m\n\u001B[0;32m     27\u001B[0m                                   \u001B[38;5;124m'\u001B[39m\u001B[38;5;124mnumber_methods_before\u001B[39m\u001B[38;5;124m'\u001B[39m: \u001B[38;5;28mlen\u001B[39m(m\u001B[38;5;241m.\u001B[39mmethods_before),\n\u001B[0;32m     28\u001B[0m                                   })\n",
      "File \u001B[1;32m~\\Desktop\\书籍与资料\\ucl\\104_软件开发练习\\teamproject\\Project\\sdp_cw2\\venv\\lib\\site-packages\\pydriller\\domain\\commit.py:772\u001B[0m, in \u001B[0;36mCommit.modified_files\u001B[1;34m(self)\u001B[0m\n\u001B[0;32m    768\u001B[0m     options[\u001B[38;5;124m\"\u001B[39m\u001B[38;5;124mw\u001B[39m\u001B[38;5;124m\"\u001B[39m] \u001B[38;5;241m=\u001B[39m \u001B[38;5;28;01mTrue\u001B[39;00m\n\u001B[0;32m    770\u001B[0m \u001B[38;5;28;01mif\u001B[39;00m \u001B[38;5;28mlen\u001B[39m(\u001B[38;5;28mself\u001B[39m\u001B[38;5;241m.\u001B[39mparents) \u001B[38;5;241m==\u001B[39m \u001B[38;5;241m1\u001B[39m:\n\u001B[0;32m    771\u001B[0m     \u001B[38;5;66;03m# the commit has a parent\u001B[39;00m\n\u001B[1;32m--> 772\u001B[0m     diff_index: Any \u001B[38;5;241m=\u001B[39m \u001B[38;5;28mself\u001B[39m\u001B[38;5;241m.\u001B[39m_c_object\u001B[38;5;241m.\u001B[39mparents[\u001B[38;5;241m0\u001B[39m]\u001B[38;5;241m.\u001B[39mdiff(\n\u001B[0;32m    773\u001B[0m         other\u001B[38;5;241m=\u001B[39m\u001B[38;5;28mself\u001B[39m\u001B[38;5;241m.\u001B[39m_c_object, paths\u001B[38;5;241m=\u001B[39m\u001B[38;5;28;01mNone\u001B[39;00m, create_patch\u001B[38;5;241m=\u001B[39m\u001B[38;5;28;01mTrue\u001B[39;00m, \u001B[38;5;241m*\u001B[39m\u001B[38;5;241m*\u001B[39moptions\n\u001B[0;32m    774\u001B[0m     )\n\u001B[0;32m    775\u001B[0m \u001B[38;5;28;01melif\u001B[39;00m \u001B[38;5;28mlen\u001B[39m(\u001B[38;5;28mself\u001B[39m\u001B[38;5;241m.\u001B[39mparents) \u001B[38;5;241m>\u001B[39m \u001B[38;5;241m1\u001B[39m:\n\u001B[0;32m    776\u001B[0m     \u001B[38;5;66;03m# if it's a merge commit, the modified files of the commit are the\u001B[39;00m\n\u001B[0;32m    777\u001B[0m     \u001B[38;5;66;03m# conflicts. This because if the file is not in conflict,\u001B[39;00m\n\u001B[1;32m   (...)\u001B[0m\n\u001B[0;32m    784\u001B[0m     \u001B[38;5;66;03m# d = c_git.diff_tree(\"--cc\", commit.hexsha, '-r', '--abbrev=40',\u001B[39;00m\n\u001B[0;32m    785\u001B[0m     \u001B[38;5;66;03m#                     '--full-index', '-M', '-p', '--no-color')\u001B[39;00m\n\u001B[0;32m    786\u001B[0m     diff_index \u001B[38;5;241m=\u001B[39m []\n",
      "File \u001B[1;32m~\\Desktop\\书籍与资料\\ucl\\104_软件开发练习\\teamproject\\Project\\sdp_cw2\\venv\\lib\\site-packages\\git\\diff.py:188\u001B[0m, in \u001B[0;36mDiffable.diff\u001B[1;34m(self, other, paths, create_patch, **kwargs)\u001B[0m\n\u001B[0;32m    185\u001B[0m \u001B[38;5;66;03m# END paths handling\u001B[39;00m\n\u001B[0;32m    187\u001B[0m kwargs[\u001B[38;5;124m\"\u001B[39m\u001B[38;5;124mas_process\u001B[39m\u001B[38;5;124m\"\u001B[39m] \u001B[38;5;241m=\u001B[39m \u001B[38;5;28;01mTrue\u001B[39;00m\n\u001B[1;32m--> 188\u001B[0m proc \u001B[38;5;241m=\u001B[39m diff_cmd(\u001B[38;5;241m*\u001B[39m\u001B[38;5;28mself\u001B[39m\u001B[38;5;241m.\u001B[39m_process_diff_args(args), \u001B[38;5;241m*\u001B[39m\u001B[38;5;241m*\u001B[39mkwargs)\n\u001B[0;32m    190\u001B[0m diff_method \u001B[38;5;241m=\u001B[39m Diff\u001B[38;5;241m.\u001B[39m_index_from_patch_format \u001B[38;5;28;01mif\u001B[39;00m create_patch \u001B[38;5;28;01melse\u001B[39;00m Diff\u001B[38;5;241m.\u001B[39m_index_from_raw_format\n\u001B[0;32m    191\u001B[0m index \u001B[38;5;241m=\u001B[39m diff_method(\u001B[38;5;28mself\u001B[39m\u001B[38;5;241m.\u001B[39mrepo, proc)\n",
      "File \u001B[1;32m~\\Desktop\\书籍与资料\\ucl\\104_软件开发练习\\teamproject\\Project\\sdp_cw2\\venv\\lib\\site-packages\\git\\cmd.py:736\u001B[0m, in \u001B[0;36mGit.__getattr__.<locals>.<lambda>\u001B[1;34m(*args, **kwargs)\u001B[0m\n\u001B[0;32m    734\u001B[0m \u001B[38;5;28;01mif\u001B[39;00m name[\u001B[38;5;241m0\u001B[39m] \u001B[38;5;241m==\u001B[39m \u001B[38;5;124m\"\u001B[39m\u001B[38;5;124m_\u001B[39m\u001B[38;5;124m\"\u001B[39m:\n\u001B[0;32m    735\u001B[0m     \u001B[38;5;28;01mreturn\u001B[39;00m LazyMixin\u001B[38;5;241m.\u001B[39m\u001B[38;5;21m__getattr__\u001B[39m(\u001B[38;5;28mself\u001B[39m, name)\n\u001B[1;32m--> 736\u001B[0m \u001B[38;5;28;01mreturn\u001B[39;00m \u001B[38;5;28;01mlambda\u001B[39;00m \u001B[38;5;241m*\u001B[39margs, \u001B[38;5;241m*\u001B[39m\u001B[38;5;241m*\u001B[39mkwargs: \u001B[38;5;28mself\u001B[39m\u001B[38;5;241m.\u001B[39m_call_process(name, \u001B[38;5;241m*\u001B[39margs, \u001B[38;5;241m*\u001B[39m\u001B[38;5;241m*\u001B[39mkwargs)\n",
      "File \u001B[1;32m~\\Desktop\\书籍与资料\\ucl\\104_软件开发练习\\teamproject\\Project\\sdp_cw2\\venv\\lib\\site-packages\\git\\cmd.py:1316\u001B[0m, in \u001B[0;36mGit._call_process\u001B[1;34m(self, method, *args, **kwargs)\u001B[0m\n\u001B[0;32m   1313\u001B[0m call\u001B[38;5;241m.\u001B[39mappend(dashify(method))\n\u001B[0;32m   1314\u001B[0m call\u001B[38;5;241m.\u001B[39mextend(args_list)\n\u001B[1;32m-> 1316\u001B[0m \u001B[38;5;28;01mreturn\u001B[39;00m \u001B[38;5;28mself\u001B[39m\u001B[38;5;241m.\u001B[39mexecute(call, \u001B[38;5;241m*\u001B[39m\u001B[38;5;241m*\u001B[39mexec_kwargs)\n",
      "File \u001B[1;32m~\\Desktop\\书籍与资料\\ucl\\104_软件开发练习\\teamproject\\Project\\sdp_cw2\\venv\\lib\\site-packages\\git\\cmd.py:988\u001B[0m, in \u001B[0;36mGit.execute\u001B[1;34m(self, command, istream, with_extended_output, with_exceptions, as_process, output_stream, stdout_as_string, kill_after_timeout, with_stdout, universal_newlines, shell, env, max_chunk_size, strip_newline_in_stdout, **subprocess_kwargs)\u001B[0m\n\u001B[0;32m    986\u001B[0m \u001B[38;5;28;01mtry\u001B[39;00m:\n\u001B[0;32m    987\u001B[0m     \u001B[38;5;28;01mwith\u001B[39;00m maybe_patch_caller_env:\n\u001B[1;32m--> 988\u001B[0m         proc \u001B[38;5;241m=\u001B[39m Popen(\n\u001B[0;32m    989\u001B[0m             command,\n\u001B[0;32m    990\u001B[0m             env\u001B[38;5;241m=\u001B[39menv,\n\u001B[0;32m    991\u001B[0m             cwd\u001B[38;5;241m=\u001B[39mcwd,\n\u001B[0;32m    992\u001B[0m             bufsize\u001B[38;5;241m=\u001B[39m\u001B[38;5;241m-\u001B[39m\u001B[38;5;241m1\u001B[39m,\n\u001B[0;32m    993\u001B[0m             stdin\u001B[38;5;241m=\u001B[39mistream \u001B[38;5;129;01mor\u001B[39;00m DEVNULL,\n\u001B[0;32m    994\u001B[0m             stderr\u001B[38;5;241m=\u001B[39mPIPE,\n\u001B[0;32m    995\u001B[0m             stdout\u001B[38;5;241m=\u001B[39mstdout_sink,\n\u001B[0;32m    996\u001B[0m             shell\u001B[38;5;241m=\u001B[39mshell,\n\u001B[0;32m    997\u001B[0m             close_fds\u001B[38;5;241m=\u001B[39mis_posix,  \u001B[38;5;66;03m# unsupported on windows\u001B[39;00m\n\u001B[0;32m    998\u001B[0m             universal_newlines\u001B[38;5;241m=\u001B[39muniversal_newlines,\n\u001B[0;32m    999\u001B[0m             creationflags\u001B[38;5;241m=\u001B[39mPROC_CREATIONFLAGS,\n\u001B[0;32m   1000\u001B[0m             \u001B[38;5;241m*\u001B[39m\u001B[38;5;241m*\u001B[39msubprocess_kwargs,\n\u001B[0;32m   1001\u001B[0m         )\n\u001B[0;32m   1002\u001B[0m \u001B[38;5;28;01mexcept\u001B[39;00m cmd_not_found_exception \u001B[38;5;28;01mas\u001B[39;00m err:\n\u001B[0;32m   1003\u001B[0m     \u001B[38;5;28;01mraise\u001B[39;00m GitCommandNotFound(redacted_command, err) \u001B[38;5;28;01mfrom\u001B[39;00m \u001B[38;5;21;01merr\u001B[39;00m\n",
      "File \u001B[1;32m~\\AppData\\Local\\Programs\\Python\\Python39\\lib\\subprocess.py:951\u001B[0m, in \u001B[0;36mPopen.__init__\u001B[1;34m(self, args, bufsize, executable, stdin, stdout, stderr, preexec_fn, close_fds, shell, cwd, env, universal_newlines, startupinfo, creationflags, restore_signals, start_new_session, pass_fds, user, group, extra_groups, encoding, errors, text, umask)\u001B[0m\n\u001B[0;32m    947\u001B[0m         \u001B[38;5;28;01mif\u001B[39;00m \u001B[38;5;28mself\u001B[39m\u001B[38;5;241m.\u001B[39mtext_mode:\n\u001B[0;32m    948\u001B[0m             \u001B[38;5;28mself\u001B[39m\u001B[38;5;241m.\u001B[39mstderr \u001B[38;5;241m=\u001B[39m io\u001B[38;5;241m.\u001B[39mTextIOWrapper(\u001B[38;5;28mself\u001B[39m\u001B[38;5;241m.\u001B[39mstderr,\n\u001B[0;32m    949\u001B[0m                     encoding\u001B[38;5;241m=\u001B[39mencoding, errors\u001B[38;5;241m=\u001B[39merrors)\n\u001B[1;32m--> 951\u001B[0m     \u001B[38;5;28;43mself\u001B[39;49m\u001B[38;5;241;43m.\u001B[39;49m\u001B[43m_execute_child\u001B[49m\u001B[43m(\u001B[49m\u001B[43margs\u001B[49m\u001B[43m,\u001B[49m\u001B[43m \u001B[49m\u001B[43mexecutable\u001B[49m\u001B[43m,\u001B[49m\u001B[43m \u001B[49m\u001B[43mpreexec_fn\u001B[49m\u001B[43m,\u001B[49m\u001B[43m \u001B[49m\u001B[43mclose_fds\u001B[49m\u001B[43m,\u001B[49m\n\u001B[0;32m    952\u001B[0m \u001B[43m                        \u001B[49m\u001B[43mpass_fds\u001B[49m\u001B[43m,\u001B[49m\u001B[43m \u001B[49m\u001B[43mcwd\u001B[49m\u001B[43m,\u001B[49m\u001B[43m \u001B[49m\u001B[43menv\u001B[49m\u001B[43m,\u001B[49m\n\u001B[0;32m    953\u001B[0m \u001B[43m                        \u001B[49m\u001B[43mstartupinfo\u001B[49m\u001B[43m,\u001B[49m\u001B[43m \u001B[49m\u001B[43mcreationflags\u001B[49m\u001B[43m,\u001B[49m\u001B[43m \u001B[49m\u001B[43mshell\u001B[49m\u001B[43m,\u001B[49m\n\u001B[0;32m    954\u001B[0m \u001B[43m                        \u001B[49m\u001B[43mp2cread\u001B[49m\u001B[43m,\u001B[49m\u001B[43m \u001B[49m\u001B[43mp2cwrite\u001B[49m\u001B[43m,\u001B[49m\n\u001B[0;32m    955\u001B[0m \u001B[43m                        \u001B[49m\u001B[43mc2pread\u001B[49m\u001B[43m,\u001B[49m\u001B[43m \u001B[49m\u001B[43mc2pwrite\u001B[49m\u001B[43m,\u001B[49m\n\u001B[0;32m    956\u001B[0m \u001B[43m                        \u001B[49m\u001B[43merrread\u001B[49m\u001B[43m,\u001B[49m\u001B[43m \u001B[49m\u001B[43merrwrite\u001B[49m\u001B[43m,\u001B[49m\n\u001B[0;32m    957\u001B[0m \u001B[43m                        \u001B[49m\u001B[43mrestore_signals\u001B[49m\u001B[43m,\u001B[49m\n\u001B[0;32m    958\u001B[0m \u001B[43m                        \u001B[49m\u001B[43mgid\u001B[49m\u001B[43m,\u001B[49m\u001B[43m \u001B[49m\u001B[43mgids\u001B[49m\u001B[43m,\u001B[49m\u001B[43m \u001B[49m\u001B[43muid\u001B[49m\u001B[43m,\u001B[49m\u001B[43m \u001B[49m\u001B[43mumask\u001B[49m\u001B[43m,\u001B[49m\n\u001B[0;32m    959\u001B[0m \u001B[43m                        \u001B[49m\u001B[43mstart_new_session\u001B[49m\u001B[43m)\u001B[49m\n\u001B[0;32m    960\u001B[0m \u001B[38;5;28;01mexcept\u001B[39;00m:\n\u001B[0;32m    961\u001B[0m     \u001B[38;5;66;03m# Cleanup if the child failed starting.\u001B[39;00m\n\u001B[0;32m    962\u001B[0m     \u001B[38;5;28;01mfor\u001B[39;00m f \u001B[38;5;129;01min\u001B[39;00m \u001B[38;5;28mfilter\u001B[39m(\u001B[38;5;28;01mNone\u001B[39;00m, (\u001B[38;5;28mself\u001B[39m\u001B[38;5;241m.\u001B[39mstdin, \u001B[38;5;28mself\u001B[39m\u001B[38;5;241m.\u001B[39mstdout, \u001B[38;5;28mself\u001B[39m\u001B[38;5;241m.\u001B[39mstderr)):\n",
      "File \u001B[1;32m~\\AppData\\Local\\Programs\\Python\\Python39\\lib\\subprocess.py:1420\u001B[0m, in \u001B[0;36mPopen._execute_child\u001B[1;34m(self, args, executable, preexec_fn, close_fds, pass_fds, cwd, env, startupinfo, creationflags, shell, p2cread, p2cwrite, c2pread, c2pwrite, errread, errwrite, unused_restore_signals, unused_gid, unused_gids, unused_uid, unused_umask, unused_start_new_session)\u001B[0m\n\u001B[0;32m   1418\u001B[0m \u001B[38;5;66;03m# Start the process\u001B[39;00m\n\u001B[0;32m   1419\u001B[0m \u001B[38;5;28;01mtry\u001B[39;00m:\n\u001B[1;32m-> 1420\u001B[0m     hp, ht, pid, tid \u001B[38;5;241m=\u001B[39m \u001B[43m_winapi\u001B[49m\u001B[38;5;241;43m.\u001B[39;49m\u001B[43mCreateProcess\u001B[49m\u001B[43m(\u001B[49m\u001B[43mexecutable\u001B[49m\u001B[43m,\u001B[49m\u001B[43m \u001B[49m\u001B[43margs\u001B[49m\u001B[43m,\u001B[49m\n\u001B[0;32m   1421\u001B[0m \u001B[43m                             \u001B[49m\u001B[38;5;66;43;03m# no special security\u001B[39;49;00m\n\u001B[0;32m   1422\u001B[0m \u001B[43m                             \u001B[49m\u001B[38;5;28;43;01mNone\u001B[39;49;00m\u001B[43m,\u001B[49m\u001B[43m \u001B[49m\u001B[38;5;28;43;01mNone\u001B[39;49;00m\u001B[43m,\u001B[49m\n\u001B[0;32m   1423\u001B[0m \u001B[43m                             \u001B[49m\u001B[38;5;28;43mint\u001B[39;49m\u001B[43m(\u001B[49m\u001B[38;5;129;43;01mnot\u001B[39;49;00m\u001B[43m \u001B[49m\u001B[43mclose_fds\u001B[49m\u001B[43m)\u001B[49m\u001B[43m,\u001B[49m\n\u001B[0;32m   1424\u001B[0m \u001B[43m                             \u001B[49m\u001B[43mcreationflags\u001B[49m\u001B[43m,\u001B[49m\n\u001B[0;32m   1425\u001B[0m \u001B[43m                             \u001B[49m\u001B[43menv\u001B[49m\u001B[43m,\u001B[49m\n\u001B[0;32m   1426\u001B[0m \u001B[43m                             \u001B[49m\u001B[43mcwd\u001B[49m\u001B[43m,\u001B[49m\n\u001B[0;32m   1427\u001B[0m \u001B[43m                             \u001B[49m\u001B[43mstartupinfo\u001B[49m\u001B[43m)\u001B[49m\n\u001B[0;32m   1428\u001B[0m \u001B[38;5;28;01mfinally\u001B[39;00m:\n\u001B[0;32m   1429\u001B[0m     \u001B[38;5;66;03m# Child is launched. Close the parent's copy of those pipe\u001B[39;00m\n\u001B[0;32m   1430\u001B[0m     \u001B[38;5;66;03m# handles that only the child should have open.  You need\u001B[39;00m\n\u001B[1;32m   (...)\u001B[0m\n\u001B[0;32m   1433\u001B[0m     \u001B[38;5;66;03m# pipe will not close when the child process exits and the\u001B[39;00m\n\u001B[0;32m   1434\u001B[0m     \u001B[38;5;66;03m# ReadFile will hang.\u001B[39;00m\n\u001B[0;32m   1435\u001B[0m     \u001B[38;5;28mself\u001B[39m\u001B[38;5;241m.\u001B[39m_close_pipe_fds(p2cread, p2cwrite,\n\u001B[0;32m   1436\u001B[0m                          c2pread, c2pwrite,\n\u001B[0;32m   1437\u001B[0m                          errread, errwrite)\n",
      "\u001B[1;31mKeyboardInterrupt\u001B[0m: "
     ]
    }
   ],
   "source": [
    "import os\n",
    "\n",
    "all_test_files = get_unit_test_files(repo_path)\n",
    "groovy_folder_counts = count_groovy_folders(repo_path)\n",
    "map_files = get_corresponding_groovy_files(repo_path, all_test_files)\n",
    "\n",
    "all_files = [map_['test'] for map_ in map_files] + [map_['target'] for map_ in map_files]\n",
    "all_files_info = get_modifications_of_files(repo_path, all_files)\n",
    "\n",
    "map_files_info = []\n",
    "for map_ in map_files:\n",
    "    map_files_info.append({\n",
    "        'test': all_files_info[map_['test']],\n",
    "        'target': all_files_info[map_['target']]\n",
    "    })"
   ],
   "metadata": {
    "collapsed": false,
    "ExecuteTime": {
     "end_time": "2023-12-23T00:04:54.723550400Z",
     "start_time": "2023-12-23T00:03:36.563332900Z"
    }
   }
  },
  {
   "cell_type": "code",
   "execution_count": 15,
   "metadata": {
    "ExecuteTime": {
     "end_time": "2023-12-22T19:45:36.070096600Z",
     "start_time": "2023-12-22T19:45:36.043738200Z"
    }
   },
   "outputs": [
    {
     "ename": "IndexError",
     "evalue": "list index out of range",
     "output_type": "error",
     "traceback": [
      "\u001B[1;31m---------------------------------------------------------------------------\u001B[0m",
      "\u001B[1;31mIndexError\u001B[0m                                Traceback (most recent call last)",
      "Cell \u001B[1;32mIn[15], line 1\u001B[0m\n\u001B[1;32m----> 1\u001B[0m \u001B[38;5;28mprint\u001B[39m(\u001B[43mmap_files_info\u001B[49m\u001B[43m[\u001B[49m\u001B[38;5;241;43m0\u001B[39;49m\u001B[43m]\u001B[49m[\u001B[38;5;124m'\u001B[39m\u001B[38;5;124mtest\u001B[39m\u001B[38;5;124m'\u001B[39m])\n",
      "\u001B[1;31mIndexError\u001B[0m: list index out of range"
     ]
    }
   ],
   "source": [
    "print(map_files_info[0]['test'])\n"
   ]
  },
  {
   "cell_type": "code",
   "execution_count": null,
   "metadata": {},
   "outputs": [],
   "source": [
    "\n",
    "map_before, map_same, map_after = get_history_files(map_files_info)"
   ]
  },
  {
   "cell_type": "code",
   "execution_count": null,
   "metadata": {},
   "outputs": [],
   "source": [
    "print(\"Before: \" + str(len(map_before)))\n",
    "print(\"Same: \" + str(len(map_same)))\n",
    "print(\"After: \" + str(len(map_after)))\n",
    "\n",
    "\n",
    "test_date = map_before[0]['test'][0]['commit'].committer_date\n",
    "target_date = map_before[0]['target'][0]['commit'].committer_date\n",
    "print(\"Test date: \" + str(test_date))\n",
    "print(\"Target date: \" + str(target_date))"
   ]
  },
  {
   "cell_type": "markdown",
   "metadata": {},
   "source": [
    "# Files where test are created before the target file"
   ]
  },
  {
   "cell_type": "markdown",
   "metadata": {},
   "source": [
    "## Diff of the test file and the target file"
   ]
  },
  {
   "cell_type": "code",
   "execution_count": null,
   "metadata": {},
   "outputs": [],
   "source": [
    "\n",
    "first_before = map_before[0]\n",
    "# print(first_before['test'][0])\n",
    "\n"
   ]
  },
  {
   "cell_type": "code",
   "execution_count": null,
   "metadata": {},
   "outputs": [],
   "source": [
    "plot_lines_test_vs_target_dates(first_before['test'], first_before['target'], \"number_methods\")"
   ]
  },
  {
   "cell_type": "markdown",
   "metadata": {},
   "source": [
    "## Add lines to the test file vs the target file"
   ]
  },
  {
   "cell_type": "code",
   "execution_count": null,
   "metadata": {},
   "outputs": [],
   "source": [
    "plot_lines_test_vs_target_numeric(first_before['test'], first_before['target'], \"number_methods\")\n",
    "print(first_before['test'][12]['commit'].hash)\n"
   ]
  },
  {
   "cell_type": "code",
   "execution_count": null,
   "metadata": {},
   "outputs": [],
   "source": [
    "plot_lines_test_vs_target_normalise_100(first_before['test'], first_before['target'], 'added_lines')"
   ]
  },
  {
   "cell_type": "code",
   "execution_count": null,
   "metadata": {},
   "outputs": [],
   "source": [
    "for map_ in map_same[:10]:\n",
    "    plot_lines_test_vs_target_numeric_side_by_side(map_['test'], map_['target'], \"nloc\", \"number_methods\")"
   ]
  },
  {
   "cell_type": "code",
   "execution_count": null,
   "metadata": {},
   "outputs": [],
   "source": []
  }
 ],
 "metadata": {
  "kernelspec": {
   "display_name": "venv",
   "language": "python",
   "name": "python3"
  },
  "language_info": {
   "codemirror_mode": {
    "name": "ipython",
    "version": 3
   },
   "file_extension": ".py",
   "mimetype": "text/x-python",
   "name": "python",
   "nbconvert_exporter": "python",
   "pygments_lexer": "ipython3",
   "version": "3.9.6"
  }
 },
 "nbformat": 4,
 "nbformat_minor": 2
}
